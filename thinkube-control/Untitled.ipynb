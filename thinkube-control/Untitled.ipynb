{
 "cells": [
  {
   "cell_type": "code",
   "execution_count": 1,
   "id": "b3619af9-9302-4164-89b1-4a466b9ceb0c",
   "metadata": {},
   "outputs": [
    {
     "name": "stdout",
     "output_type": "stream",
     "text": [
      "Project structure created successfully.\n"
     ]
    }
   ],
   "source": [
    "import os\n",
    "\n",
    "def create_project_structure(base_path, structure):\n",
    "    for path in structure:\n",
    "        full_path = os.path.join(base_path, path)\n",
    "        if path.endswith(\"/\"):\n",
    "            os.makedirs(full_path, exist_ok=True)\n",
    "        else:\n",
    "            os.makedirs(os.path.dirname(full_path), exist_ok=True)\n",
    "            open(full_path, 'a').close()  # Create an empty file\n",
    "\n",
    "project_structure = [\n",
    "    \"backend/app/api/\",\n",
    "    \"backend/app/api/__init__.py\",\n",
    "    \"backend/app/api/auth.py\",\n",
    "    \"backend/app/api/dashboards.py\",\n",
    "    \"backend/app/api/router.py\",\n",
    "    \"backend/app/core/\",\n",
    "    \"backend/app/core/__init__.py\",\n",
    "    \"backend/app/core/config.py\",\n",
    "    \"backend/app/core/security.py\",\n",
    "    \"backend/app/models/\",\n",
    "    \"backend/app/models/__init__.py\",\n",
    "    \"backend/app/models/dashboards.py\",\n",
    "    \"backend/Dockerfile\",\n",
    "    \"backend/requirements.txt\",\n",
    "    \"frontend/public/\",\n",
    "    \"frontend/public/favicon.ico\",\n",
    "    \"frontend/public/index.html\",\n",
    "    \"frontend/src/assets/\",\n",
    "    \"frontend/src/assets/logo.svg\",\n",
    "    \"frontend/src/assets/styles.css\",\n",
    "    \"frontend/src/components/\",\n",
    "    \"frontend/src/components/DashboardCard.vue\",\n",
    "    \"frontend/src/components/NavBar.vue\",\n",
    "    \"frontend/src/components/ProfileDropdown.vue\",\n",
    "    \"frontend/src/services/\",\n",
    "    \"frontend/src/services/api.js\"\n",
    "    \"frontend/src/services/auth.js\",\n",
    "    \"frontend/src/views/\",\n",
    "    \"frontend/src/views/Dashboard.vue\",\n",
    "    \"frontend/src/views/Login.vue\",\n",
    "    \"frontend/src/views/NotFound.vue\",\n",
    "    \"frontend/src/App.vue\",\n",
    "    \"frontend/src/main.js\",\n",
    "    \"frontend/src/router.js\",\n",
    "    \"frontend/Dockerfile\",\n",
    "    \"frontend/package.json\",\n",
    "    \"frontend/vite.config.js\",\n",
    "    \"k8s/backend-deployment.yaml\",\n",
    "    \"k8s/backend-service.yaml\",\n",
    "    \"k8s/frontend-deployment.yaml\",\n",
    "    \"k8s/frontend-service.yaml\",\n",
    "    \"k8s/ingress.yaml\",\n",
    "    \"k8s/keycloak-setup.yaml\",\n",
    "    \"k8s/kustomization.yaml\",\n",
    "    \"k8s/namespace.yaml\",\n",
    "    \"workflows/build-workflow.yaml\",\n",
    "]\n",
    "\n",
    "if __name__ == \"__main__\":\n",
    "    base_path = os.getcwd()  # Set the base directory (current working directory)\n",
    "    create_project_structure(base_path, project_structure)\n",
    "    print(\"Project structure created successfully.\")"
   ]
  },
  {
   "cell_type": "code",
   "execution_count": null,
   "id": "f3c034e2-506c-42d2-8809-77a80c0e34f7",
   "metadata": {},
   "outputs": [],
   "source": []
  }
 ],
 "metadata": {
  "kernelspec": {
   "display_name": "Python 3 (ipykernel)",
   "language": "python",
   "name": "python3"
  },
  "language_info": {
   "codemirror_mode": {
    "name": "ipython",
    "version": 3
   },
   "file_extension": ".py",
   "mimetype": "text/x-python",
   "name": "python",
   "nbconvert_exporter": "python",
   "pygments_lexer": "ipython3",
   "version": "3.11.5"
  }
 },
 "nbformat": 4,
 "nbformat_minor": 5
}
